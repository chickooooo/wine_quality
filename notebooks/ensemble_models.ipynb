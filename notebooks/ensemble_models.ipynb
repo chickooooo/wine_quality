{
 "cells": [
  {
   "cell_type": "code",
   "execution_count": 1,
   "metadata": {},
   "outputs": [],
   "source": [
    "import pandas as pd\n",
    "import numpy as np\n",
    "from matplotlib import pyplot as plt\n",
    "import seaborn as sns\n",
    "\n",
    "sns.set(color_codes=True)"
   ]
  },
  {
   "cell_type": "code",
   "execution_count": 2,
   "metadata": {},
   "outputs": [],
   "source": [
    "import time"
   ]
  },
  {
   "attachments": {},
   "cell_type": "markdown",
   "metadata": {},
   "source": [
    "<br>\n",
    "<br>\n",
    "<br>"
   ]
  },
  {
   "attachments": {},
   "cell_type": "markdown",
   "metadata": {},
   "source": [
    "### Data Collection"
   ]
  },
  {
   "cell_type": "code",
   "execution_count": 3,
   "metadata": {},
   "outputs": [
    {
     "data": {
      "text/html": [
       "<div>\n",
       "<style scoped>\n",
       "    .dataframe tbody tr th:only-of-type {\n",
       "        vertical-align: middle;\n",
       "    }\n",
       "\n",
       "    .dataframe tbody tr th {\n",
       "        vertical-align: top;\n",
       "    }\n",
       "\n",
       "    .dataframe thead th {\n",
       "        text-align: right;\n",
       "    }\n",
       "</style>\n",
       "<table border=\"1\" class=\"dataframe\">\n",
       "  <thead>\n",
       "    <tr style=\"text-align: right;\">\n",
       "      <th></th>\n",
       "      <th>fixed acidity</th>\n",
       "      <th>volatile acidity</th>\n",
       "      <th>citric acid</th>\n",
       "      <th>residual sugar</th>\n",
       "      <th>chlorides</th>\n",
       "      <th>free sulfur dioxide</th>\n",
       "      <th>total sulfur dioxide</th>\n",
       "      <th>density</th>\n",
       "      <th>pH</th>\n",
       "      <th>sulphates</th>\n",
       "      <th>alcohol</th>\n",
       "      <th>quality</th>\n",
       "    </tr>\n",
       "  </thead>\n",
       "  <tbody>\n",
       "    <tr>\n",
       "      <th>0</th>\n",
       "      <td>-0.214182</td>\n",
       "      <td>-0.159429</td>\n",
       "      <td>0.663801</td>\n",
       "      <td>-0.231630</td>\n",
       "      <td>-0.373311</td>\n",
       "      <td>1.303453</td>\n",
       "      <td>-0.310649</td>\n",
       "      <td>-0.562501</td>\n",
       "      <td>0.136562</td>\n",
       "      <td>0.933169</td>\n",
       "      <td>1.638215</td>\n",
       "      <td>6</td>\n",
       "    </tr>\n",
       "    <tr>\n",
       "      <th>1</th>\n",
       "      <td>0.548293</td>\n",
       "      <td>-1.314684</td>\n",
       "      <td>2.470184</td>\n",
       "      <td>-0.115164</td>\n",
       "      <td>0.427602</td>\n",
       "      <td>1.303453</td>\n",
       "      <td>0.539042</td>\n",
       "      <td>0.980993</td>\n",
       "      <td>0.066281</td>\n",
       "      <td>0.208049</td>\n",
       "      <td>2.318768</td>\n",
       "      <td>6</td>\n",
       "    </tr>\n",
       "    <tr>\n",
       "      <th>2</th>\n",
       "      <td>-0.742049</td>\n",
       "      <td>-0.101666</td>\n",
       "      <td>-1.248839</td>\n",
       "      <td>-0.348097</td>\n",
       "      <td>-0.963457</td>\n",
       "      <td>-1.394584</td>\n",
       "      <td>-1.129995</td>\n",
       "      <td>-0.080843</td>\n",
       "      <td>1.471893</td>\n",
       "      <td>0.643121</td>\n",
       "      <td>0.860440</td>\n",
       "      <td>7</td>\n",
       "    </tr>\n",
       "    <tr>\n",
       "      <th>3</th>\n",
       "      <td>-0.155530</td>\n",
       "      <td>1.977792</td>\n",
       "      <td>-0.239390</td>\n",
       "      <td>0.234236</td>\n",
       "      <td>0.090375</td>\n",
       "      <td>-0.595165</td>\n",
       "      <td>0.478350</td>\n",
       "      <td>0.302294</td>\n",
       "      <td>-0.777086</td>\n",
       "      <td>-0.807119</td>\n",
       "      <td>-0.597888</td>\n",
       "      <td>5</td>\n",
       "    </tr>\n",
       "    <tr>\n",
       "      <th>4</th>\n",
       "      <td>0.079077</td>\n",
       "      <td>-0.968107</td>\n",
       "      <td>0.185641</td>\n",
       "      <td>-0.115164</td>\n",
       "      <td>-0.120391</td>\n",
       "      <td>-0.695093</td>\n",
       "      <td>-0.128573</td>\n",
       "      <td>-1.263094</td>\n",
       "      <td>-0.777086</td>\n",
       "      <td>5.211378</td>\n",
       "      <td>-0.889553</td>\n",
       "      <td>6</td>\n",
       "    </tr>\n",
       "  </tbody>\n",
       "</table>\n",
       "</div>"
      ],
      "text/plain": [
       "   fixed acidity  volatile acidity  citric acid  residual sugar  chlorides  \\\n",
       "0      -0.214182         -0.159429     0.663801       -0.231630  -0.373311   \n",
       "1       0.548293         -1.314684     2.470184       -0.115164   0.427602   \n",
       "2      -0.742049         -0.101666    -1.248839       -0.348097  -0.963457   \n",
       "3      -0.155530          1.977792    -0.239390        0.234236   0.090375   \n",
       "4       0.079077         -0.968107     0.185641       -0.115164  -0.120391   \n",
       "\n",
       "   free sulfur dioxide  total sulfur dioxide   density        pH  sulphates  \\\n",
       "0             1.303453             -0.310649 -0.562501  0.136562   0.933169   \n",
       "1             1.303453              0.539042  0.980993  0.066281   0.208049   \n",
       "2            -1.394584             -1.129995 -0.080843  1.471893   0.643121   \n",
       "3            -0.595165              0.478350  0.302294 -0.777086  -0.807119   \n",
       "4            -0.695093             -0.128573 -1.263094 -0.777086   5.211378   \n",
       "\n",
       "    alcohol  quality  \n",
       "0  1.638215        6  \n",
       "1  2.318768        6  \n",
       "2  0.860440        7  \n",
       "3 -0.597888        5  \n",
       "4 -0.889553        6  "
      ]
     },
     "execution_count": 3,
     "metadata": {},
     "output_type": "execute_result"
    }
   ],
   "source": [
    "# importing scaled training data\n",
    "train_data = pd.read_csv(\"../data/train_scaled_std.csv\")\n",
    "train_data.head()"
   ]
  },
  {
   "cell_type": "code",
   "execution_count": 4,
   "metadata": {},
   "outputs": [
    {
     "data": {
      "text/html": [
       "<div>\n",
       "<style scoped>\n",
       "    .dataframe tbody tr th:only-of-type {\n",
       "        vertical-align: middle;\n",
       "    }\n",
       "\n",
       "    .dataframe tbody tr th {\n",
       "        vertical-align: top;\n",
       "    }\n",
       "\n",
       "    .dataframe thead th {\n",
       "        text-align: right;\n",
       "    }\n",
       "</style>\n",
       "<table border=\"1\" class=\"dataframe\">\n",
       "  <thead>\n",
       "    <tr style=\"text-align: right;\">\n",
       "      <th></th>\n",
       "      <th>fixed acidity</th>\n",
       "      <th>volatile acidity</th>\n",
       "      <th>citric acid</th>\n",
       "      <th>residual sugar</th>\n",
       "      <th>chlorides</th>\n",
       "      <th>free sulfur dioxide</th>\n",
       "      <th>total sulfur dioxide</th>\n",
       "      <th>density</th>\n",
       "      <th>pH</th>\n",
       "      <th>sulphates</th>\n",
       "      <th>alcohol</th>\n",
       "    </tr>\n",
       "  </thead>\n",
       "  <tbody>\n",
       "    <tr>\n",
       "      <th>0</th>\n",
       "      <td>-0.683397</td>\n",
       "      <td>-0.101666</td>\n",
       "      <td>-1.355097</td>\n",
       "      <td>-0.464564</td>\n",
       "      <td>-0.204698</td>\n",
       "      <td>1.403381</td>\n",
       "      <td>0.144543</td>\n",
       "      <td>0.400815</td>\n",
       "      <td>0.558245</td>\n",
       "      <td>-0.372047</td>\n",
       "      <td>-0.597888</td>\n",
       "    </tr>\n",
       "    <tr>\n",
       "      <th>1</th>\n",
       "      <td>-0.683397</td>\n",
       "      <td>1.313520</td>\n",
       "      <td>-0.611292</td>\n",
       "      <td>-0.464564</td>\n",
       "      <td>0.849135</td>\n",
       "      <td>-0.295383</td>\n",
       "      <td>-0.432034</td>\n",
       "      <td>-0.485873</td>\n",
       "      <td>0.136562</td>\n",
       "      <td>0.280561</td>\n",
       "      <td>-0.403444</td>\n",
       "    </tr>\n",
       "    <tr>\n",
       "      <th>2</th>\n",
       "      <td>0.020425</td>\n",
       "      <td>-0.390480</td>\n",
       "      <td>0.716930</td>\n",
       "      <td>-0.464564</td>\n",
       "      <td>-0.710537</td>\n",
       "      <td>0.404108</td>\n",
       "      <td>0.023158</td>\n",
       "      <td>0.543122</td>\n",
       "      <td>-1.620453</td>\n",
       "      <td>0.063025</td>\n",
       "      <td>-0.889553</td>\n",
       "    </tr>\n",
       "    <tr>\n",
       "      <th>3</th>\n",
       "      <td>-0.214182</td>\n",
       "      <td>-0.332717</td>\n",
       "      <td>0.716930</td>\n",
       "      <td>-0.697497</td>\n",
       "      <td>-1.089917</td>\n",
       "      <td>-0.295383</td>\n",
       "      <td>-0.735495</td>\n",
       "      <td>-1.066052</td>\n",
       "      <td>-0.074280</td>\n",
       "      <td>0.063025</td>\n",
       "      <td>1.249328</td>\n",
       "    </tr>\n",
       "    <tr>\n",
       "      <th>4</th>\n",
       "      <td>-1.093961</td>\n",
       "      <td>-1.083633</td>\n",
       "      <td>0.291899</td>\n",
       "      <td>-0.348097</td>\n",
       "      <td>-1.595756</td>\n",
       "      <td>-0.894947</td>\n",
       "      <td>1.358388</td>\n",
       "      <td>-1.744751</td>\n",
       "      <td>-0.566244</td>\n",
       "      <td>-1.169679</td>\n",
       "      <td>2.318768</td>\n",
       "    </tr>\n",
       "  </tbody>\n",
       "</table>\n",
       "</div>"
      ],
      "text/plain": [
       "   fixed acidity  volatile acidity  citric acid  residual sugar  chlorides  \\\n",
       "0      -0.683397         -0.101666    -1.355097       -0.464564  -0.204698   \n",
       "1      -0.683397          1.313520    -0.611292       -0.464564   0.849135   \n",
       "2       0.020425         -0.390480     0.716930       -0.464564  -0.710537   \n",
       "3      -0.214182         -0.332717     0.716930       -0.697497  -1.089917   \n",
       "4      -1.093961         -1.083633     0.291899       -0.348097  -1.595756   \n",
       "\n",
       "   free sulfur dioxide  total sulfur dioxide   density        pH  sulphates  \\\n",
       "0             1.403381              0.144543  0.400815  0.558245  -0.372047   \n",
       "1            -0.295383             -0.432034 -0.485873  0.136562   0.280561   \n",
       "2             0.404108              0.023158  0.543122 -1.620453   0.063025   \n",
       "3            -0.295383             -0.735495 -1.066052 -0.074280   0.063025   \n",
       "4            -0.894947              1.358388 -1.744751 -0.566244  -1.169679   \n",
       "\n",
       "    alcohol  \n",
       "0 -0.597888  \n",
       "1 -0.403444  \n",
       "2 -0.889553  \n",
       "3  1.249328  \n",
       "4  2.318768  "
      ]
     },
     "execution_count": 4,
     "metadata": {},
     "output_type": "execute_result"
    }
   ],
   "source": [
    "# importing scaled test data\n",
    "test_data = pd.read_csv(\"../data/test_scaled_std.csv\")\n",
    "test_data.head()"
   ]
  },
  {
   "attachments": {},
   "cell_type": "markdown",
   "metadata": {},
   "source": [
    "<br>\n",
    "<br>\n",
    "<br>"
   ]
  },
  {
   "attachments": {},
   "cell_type": "markdown",
   "metadata": {},
   "source": [
    "### Data Preparation"
   ]
  },
  {
   "cell_type": "code",
   "execution_count": 5,
   "metadata": {},
   "outputs": [],
   "source": [
    "from sklearn.model_selection import train_test_split"
   ]
  },
  {
   "cell_type": "code",
   "execution_count": 6,
   "metadata": {},
   "outputs": [
    {
     "data": {
      "text/html": [
       "<div>\n",
       "<style scoped>\n",
       "    .dataframe tbody tr th:only-of-type {\n",
       "        vertical-align: middle;\n",
       "    }\n",
       "\n",
       "    .dataframe tbody tr th {\n",
       "        vertical-align: top;\n",
       "    }\n",
       "\n",
       "    .dataframe thead th {\n",
       "        text-align: right;\n",
       "    }\n",
       "</style>\n",
       "<table border=\"1\" class=\"dataframe\">\n",
       "  <thead>\n",
       "    <tr style=\"text-align: right;\">\n",
       "      <th></th>\n",
       "      <th>fixed acidity</th>\n",
       "      <th>volatile acidity</th>\n",
       "      <th>citric acid</th>\n",
       "      <th>residual sugar</th>\n",
       "      <th>chlorides</th>\n",
       "      <th>free sulfur dioxide</th>\n",
       "      <th>total sulfur dioxide</th>\n",
       "      <th>density</th>\n",
       "      <th>pH</th>\n",
       "      <th>sulphates</th>\n",
       "      <th>alcohol</th>\n",
       "    </tr>\n",
       "  </thead>\n",
       "  <tbody>\n",
       "    <tr>\n",
       "      <th>0</th>\n",
       "      <td>-0.214182</td>\n",
       "      <td>-0.159429</td>\n",
       "      <td>0.663801</td>\n",
       "      <td>-0.231630</td>\n",
       "      <td>-0.373311</td>\n",
       "      <td>1.303453</td>\n",
       "      <td>-0.310649</td>\n",
       "      <td>-0.562501</td>\n",
       "      <td>0.136562</td>\n",
       "      <td>0.933169</td>\n",
       "      <td>1.638215</td>\n",
       "    </tr>\n",
       "    <tr>\n",
       "      <th>1</th>\n",
       "      <td>0.548293</td>\n",
       "      <td>-1.314684</td>\n",
       "      <td>2.470184</td>\n",
       "      <td>-0.115164</td>\n",
       "      <td>0.427602</td>\n",
       "      <td>1.303453</td>\n",
       "      <td>0.539042</td>\n",
       "      <td>0.980993</td>\n",
       "      <td>0.066281</td>\n",
       "      <td>0.208049</td>\n",
       "      <td>2.318768</td>\n",
       "    </tr>\n",
       "    <tr>\n",
       "      <th>2</th>\n",
       "      <td>-0.742049</td>\n",
       "      <td>-0.101666</td>\n",
       "      <td>-1.248839</td>\n",
       "      <td>-0.348097</td>\n",
       "      <td>-0.963457</td>\n",
       "      <td>-1.394584</td>\n",
       "      <td>-1.129995</td>\n",
       "      <td>-0.080843</td>\n",
       "      <td>1.471893</td>\n",
       "      <td>0.643121</td>\n",
       "      <td>0.860440</td>\n",
       "    </tr>\n",
       "    <tr>\n",
       "      <th>3</th>\n",
       "      <td>-0.155530</td>\n",
       "      <td>1.977792</td>\n",
       "      <td>-0.239390</td>\n",
       "      <td>0.234236</td>\n",
       "      <td>0.090375</td>\n",
       "      <td>-0.595165</td>\n",
       "      <td>0.478350</td>\n",
       "      <td>0.302294</td>\n",
       "      <td>-0.777086</td>\n",
       "      <td>-0.807119</td>\n",
       "      <td>-0.597888</td>\n",
       "    </tr>\n",
       "    <tr>\n",
       "      <th>4</th>\n",
       "      <td>0.079077</td>\n",
       "      <td>-0.968107</td>\n",
       "      <td>0.185641</td>\n",
       "      <td>-0.115164</td>\n",
       "      <td>-0.120391</td>\n",
       "      <td>-0.695093</td>\n",
       "      <td>-0.128573</td>\n",
       "      <td>-1.263094</td>\n",
       "      <td>-0.777086</td>\n",
       "      <td>5.211378</td>\n",
       "      <td>-0.889553</td>\n",
       "    </tr>\n",
       "  </tbody>\n",
       "</table>\n",
       "</div>"
      ],
      "text/plain": [
       "   fixed acidity  volatile acidity  citric acid  residual sugar  chlorides  \\\n",
       "0      -0.214182         -0.159429     0.663801       -0.231630  -0.373311   \n",
       "1       0.548293         -1.314684     2.470184       -0.115164   0.427602   \n",
       "2      -0.742049         -0.101666    -1.248839       -0.348097  -0.963457   \n",
       "3      -0.155530          1.977792    -0.239390        0.234236   0.090375   \n",
       "4       0.079077         -0.968107     0.185641       -0.115164  -0.120391   \n",
       "\n",
       "   free sulfur dioxide  total sulfur dioxide   density        pH  sulphates  \\\n",
       "0             1.303453             -0.310649 -0.562501  0.136562   0.933169   \n",
       "1             1.303453              0.539042  0.980993  0.066281   0.208049   \n",
       "2            -1.394584             -1.129995 -0.080843  1.471893   0.643121   \n",
       "3            -0.595165              0.478350  0.302294 -0.777086  -0.807119   \n",
       "4            -0.695093             -0.128573 -1.263094 -0.777086   5.211378   \n",
       "\n",
       "    alcohol  \n",
       "0  1.638215  \n",
       "1  2.318768  \n",
       "2  0.860440  \n",
       "3 -0.597888  \n",
       "4 -0.889553  "
      ]
     },
     "execution_count": 6,
     "metadata": {},
     "output_type": "execute_result"
    }
   ],
   "source": [
    "# seperating X\n",
    "X = train_data.drop(['quality'], axis=1)\n",
    "X.head()"
   ]
  },
  {
   "cell_type": "code",
   "execution_count": 7,
   "metadata": {},
   "outputs": [
    {
     "data": {
      "text/html": [
       "<div>\n",
       "<style scoped>\n",
       "    .dataframe tbody tr th:only-of-type {\n",
       "        vertical-align: middle;\n",
       "    }\n",
       "\n",
       "    .dataframe tbody tr th {\n",
       "        vertical-align: top;\n",
       "    }\n",
       "\n",
       "    .dataframe thead th {\n",
       "        text-align: right;\n",
       "    }\n",
       "</style>\n",
       "<table border=\"1\" class=\"dataframe\">\n",
       "  <thead>\n",
       "    <tr style=\"text-align: right;\">\n",
       "      <th></th>\n",
       "      <th>quality</th>\n",
       "    </tr>\n",
       "  </thead>\n",
       "  <tbody>\n",
       "    <tr>\n",
       "      <th>0</th>\n",
       "      <td>6</td>\n",
       "    </tr>\n",
       "    <tr>\n",
       "      <th>1</th>\n",
       "      <td>6</td>\n",
       "    </tr>\n",
       "    <tr>\n",
       "      <th>2</th>\n",
       "      <td>7</td>\n",
       "    </tr>\n",
       "    <tr>\n",
       "      <th>3</th>\n",
       "      <td>5</td>\n",
       "    </tr>\n",
       "    <tr>\n",
       "      <th>4</th>\n",
       "      <td>6</td>\n",
       "    </tr>\n",
       "  </tbody>\n",
       "</table>\n",
       "</div>"
      ],
      "text/plain": [
       "   quality\n",
       "0        6\n",
       "1        6\n",
       "2        7\n",
       "3        5\n",
       "4        6"
      ]
     },
     "execution_count": 7,
     "metadata": {},
     "output_type": "execute_result"
    }
   ],
   "source": [
    "# seperating y\n",
    "y = train_data[['quality']]\n",
    "y.head()"
   ]
  },
  {
   "cell_type": "code",
   "execution_count": 8,
   "metadata": {},
   "outputs": [],
   "source": [
    "# creating validation set\n",
    "x_train, x_val, y_train, y_val = train_test_split(X, y, test_size=0.2, shuffle=True, stratify=y.quality, random_state=42)"
   ]
  },
  {
   "cell_type": "code",
   "execution_count": 9,
   "metadata": {},
   "outputs": [
    {
     "name": "stdout",
     "output_type": "stream",
     "text": [
      "(1644, 11)\n",
      "(412, 11)\n",
      "(1644, 1)\n",
      "(412, 1)\n"
     ]
    }
   ],
   "source": [
    "# checking shapes\n",
    "print(x_train.shape)\n",
    "print(x_val.shape)\n",
    "print(y_train.shape)\n",
    "print(y_val.shape)"
   ]
  },
  {
   "cell_type": "code",
   "execution_count": 10,
   "metadata": {},
   "outputs": [
    {
     "data": {
      "text/plain": [
       "quality\n",
       "5          0.408151\n",
       "6          0.378345\n",
       "7          0.161800\n",
       "4          0.026764\n",
       "8          0.018856\n",
       "3          0.006083\n",
       "dtype: float64"
      ]
     },
     "execution_count": 10,
     "metadata": {},
     "output_type": "execute_result"
    }
   ],
   "source": [
    "# verifying proportions\n",
    "y_train.value_counts() / len(y_train)"
   ]
  },
  {
   "cell_type": "code",
   "execution_count": 12,
   "metadata": {},
   "outputs": [
    {
     "data": {
      "text/plain": [
       "quality\n",
       "5          0.407767\n",
       "6          0.378641\n",
       "7          0.162621\n",
       "4          0.026699\n",
       "8          0.019417\n",
       "3          0.004854\n",
       "dtype: float64"
      ]
     },
     "execution_count": 12,
     "metadata": {},
     "output_type": "execute_result"
    }
   ],
   "source": [
    "# verifying proportions\n",
    "y_val.value_counts() / len(y_val)"
   ]
  },
  {
   "attachments": {},
   "cell_type": "markdown",
   "metadata": {},
   "source": [
    "<br>\n",
    "<br>\n",
    "<br>"
   ]
  },
  {
   "attachments": {},
   "cell_type": "markdown",
   "metadata": {},
   "source": [
    "### Model Selection"
   ]
  },
  {
   "cell_type": "code",
   "execution_count": 29,
   "metadata": {},
   "outputs": [],
   "source": [
    "from sklearn.ensemble import RandomForestClassifier, ExtraTreesClassifier\n",
    "from lightgbm import LGBMClassifier\n",
    "from xgboost import XGBClassifier\n",
    "from catboost import CatBoostClassifier\n",
    "\n",
    "from sklearn.metrics import cohen_kappa_score, make_scorer\n",
    "from sklearn.model_selection import StratifiedKFold, cross_val_score, GridSearchCV"
   ]
  },
  {
   "cell_type": "code",
   "execution_count": 14,
   "metadata": {},
   "outputs": [],
   "source": [
    "# quadratic weighted kappa\n",
    "def quad_kappa(y, y_pred):\n",
    "    return cohen_kappa_score(y, y_pred, weights='quadratic')"
   ]
  },
  {
   "cell_type": "code",
   "execution_count": 15,
   "metadata": {},
   "outputs": [],
   "source": [
    "# making custom scorer\n",
    "custom_scorer = make_scorer(quad_kappa, greater_is_better=True)"
   ]
  },
  {
   "attachments": {},
   "cell_type": "markdown",
   "metadata": {},
   "source": [
    "<br>"
   ]
  },
  {
   "attachments": {},
   "cell_type": "markdown",
   "metadata": {},
   "source": [
    "#### random forest"
   ]
  },
  {
   "cell_type": "code",
   "execution_count": 69,
   "metadata": {},
   "outputs": [],
   "source": [
    "# random forest classifier\n",
    "forest = RandomForestClassifier(max_depth=4, min_samples_split=10)"
   ]
  },
  {
   "cell_type": "code",
   "execution_count": 70,
   "metadata": {},
   "outputs": [
    {
     "data": {
      "text/html": [
       "<style>#sk-container-id-10 {color: black;background-color: white;}#sk-container-id-10 pre{padding: 0;}#sk-container-id-10 div.sk-toggleable {background-color: white;}#sk-container-id-10 label.sk-toggleable__label {cursor: pointer;display: block;width: 100%;margin-bottom: 0;padding: 0.3em;box-sizing: border-box;text-align: center;}#sk-container-id-10 label.sk-toggleable__label-arrow:before {content: \"▸\";float: left;margin-right: 0.25em;color: #696969;}#sk-container-id-10 label.sk-toggleable__label-arrow:hover:before {color: black;}#sk-container-id-10 div.sk-estimator:hover label.sk-toggleable__label-arrow:before {color: black;}#sk-container-id-10 div.sk-toggleable__content {max-height: 0;max-width: 0;overflow: hidden;text-align: left;background-color: #f0f8ff;}#sk-container-id-10 div.sk-toggleable__content pre {margin: 0.2em;color: black;border-radius: 0.25em;background-color: #f0f8ff;}#sk-container-id-10 input.sk-toggleable__control:checked~div.sk-toggleable__content {max-height: 200px;max-width: 100%;overflow: auto;}#sk-container-id-10 input.sk-toggleable__control:checked~label.sk-toggleable__label-arrow:before {content: \"▾\";}#sk-container-id-10 div.sk-estimator input.sk-toggleable__control:checked~label.sk-toggleable__label {background-color: #d4ebff;}#sk-container-id-10 div.sk-label input.sk-toggleable__control:checked~label.sk-toggleable__label {background-color: #d4ebff;}#sk-container-id-10 input.sk-hidden--visually {border: 0;clip: rect(1px 1px 1px 1px);clip: rect(1px, 1px, 1px, 1px);height: 1px;margin: -1px;overflow: hidden;padding: 0;position: absolute;width: 1px;}#sk-container-id-10 div.sk-estimator {font-family: monospace;background-color: #f0f8ff;border: 1px dotted black;border-radius: 0.25em;box-sizing: border-box;margin-bottom: 0.5em;}#sk-container-id-10 div.sk-estimator:hover {background-color: #d4ebff;}#sk-container-id-10 div.sk-parallel-item::after {content: \"\";width: 100%;border-bottom: 1px solid gray;flex-grow: 1;}#sk-container-id-10 div.sk-label:hover label.sk-toggleable__label {background-color: #d4ebff;}#sk-container-id-10 div.sk-serial::before {content: \"\";position: absolute;border-left: 1px solid gray;box-sizing: border-box;top: 0;bottom: 0;left: 50%;z-index: 0;}#sk-container-id-10 div.sk-serial {display: flex;flex-direction: column;align-items: center;background-color: white;padding-right: 0.2em;padding-left: 0.2em;position: relative;}#sk-container-id-10 div.sk-item {position: relative;z-index: 1;}#sk-container-id-10 div.sk-parallel {display: flex;align-items: stretch;justify-content: center;background-color: white;position: relative;}#sk-container-id-10 div.sk-item::before, #sk-container-id-10 div.sk-parallel-item::before {content: \"\";position: absolute;border-left: 1px solid gray;box-sizing: border-box;top: 0;bottom: 0;left: 50%;z-index: -1;}#sk-container-id-10 div.sk-parallel-item {display: flex;flex-direction: column;z-index: 1;position: relative;background-color: white;}#sk-container-id-10 div.sk-parallel-item:first-child::after {align-self: flex-end;width: 50%;}#sk-container-id-10 div.sk-parallel-item:last-child::after {align-self: flex-start;width: 50%;}#sk-container-id-10 div.sk-parallel-item:only-child::after {width: 0;}#sk-container-id-10 div.sk-dashed-wrapped {border: 1px dashed gray;margin: 0 0.4em 0.5em 0.4em;box-sizing: border-box;padding-bottom: 0.4em;background-color: white;}#sk-container-id-10 div.sk-label label {font-family: monospace;font-weight: bold;display: inline-block;line-height: 1.2em;}#sk-container-id-10 div.sk-label-container {text-align: center;}#sk-container-id-10 div.sk-container {/* jupyter's `normalize.less` sets `[hidden] { display: none; }` but bootstrap.min.css set `[hidden] { display: none !important; }` so we also need the `!important` here to be able to override the default hidden behavior on the sphinx rendered scikit-learn.org. See: https://github.com/scikit-learn/scikit-learn/issues/21755 */display: inline-block !important;position: relative;}#sk-container-id-10 div.sk-text-repr-fallback {display: none;}</style><div id=\"sk-container-id-10\" class=\"sk-top-container\"><div class=\"sk-text-repr-fallback\"><pre>RandomForestClassifier(max_depth=4, min_samples_split=10)</pre><b>In a Jupyter environment, please rerun this cell to show the HTML representation or trust the notebook. <br />On GitHub, the HTML representation is unable to render, please try loading this page with nbviewer.org.</b></div><div class=\"sk-container\" hidden><div class=\"sk-item\"><div class=\"sk-estimator sk-toggleable\"><input class=\"sk-toggleable__control sk-hidden--visually\" id=\"sk-estimator-id-10\" type=\"checkbox\" checked><label for=\"sk-estimator-id-10\" class=\"sk-toggleable__label sk-toggleable__label-arrow\">RandomForestClassifier</label><div class=\"sk-toggleable__content\"><pre>RandomForestClassifier(max_depth=4, min_samples_split=10)</pre></div></div></div></div></div>"
      ],
      "text/plain": [
       "RandomForestClassifier(max_depth=4, min_samples_split=10)"
      ]
     },
     "execution_count": 70,
     "metadata": {},
     "output_type": "execute_result"
    }
   ],
   "source": [
    "# training model\n",
    "forest.fit(x_train, np.ravel(y_train))"
   ]
  },
  {
   "cell_type": "code",
   "execution_count": 71,
   "metadata": {},
   "outputs": [
    {
     "data": {
      "text/plain": [
       "0.47444420790996866"
      ]
     },
     "execution_count": 71,
     "metadata": {},
     "output_type": "execute_result"
    }
   ],
   "source": [
    "# score on training data\n",
    "predictions = forest.predict(x_train)\n",
    "quad_kappa(np.ravel(y_train), predictions)"
   ]
  },
  {
   "cell_type": "code",
   "execution_count": 72,
   "metadata": {},
   "outputs": [
    {
     "data": {
      "text/plain": [
       "0.45264069669444706"
      ]
     },
     "execution_count": 72,
     "metadata": {},
     "output_type": "execute_result"
    }
   ],
   "source": [
    "# score on validation data\n",
    "predictions = forest.predict(x_val)\n",
    "quad_kappa(np.ravel(y_val), predictions)"
   ]
  },
  {
   "cell_type": "code",
   "execution_count": 73,
   "metadata": {},
   "outputs": [
    {
     "data": {
      "text/plain": [
       "0.4271704021973323"
      ]
     },
     "execution_count": 73,
     "metadata": {},
     "output_type": "execute_result"
    }
   ],
   "source": [
    "# cross validation score\n",
    "scores = cross_val_score(forest, x_train, y_train, cv=10, n_jobs=-1, scoring=custom_scorer)\n",
    "scores.mean()"
   ]
  },
  {
   "attachments": {},
   "cell_type": "markdown",
   "metadata": {},
   "source": [
    "<br>\n",
    "<br>\n",
    "<br>"
   ]
  },
  {
   "attachments": {},
   "cell_type": "markdown",
   "metadata": {},
   "source": [
    "#### ensemble"
   ]
  },
  {
   "cell_type": "code",
   "execution_count": 16,
   "metadata": {},
   "outputs": [],
   "source": [
    "# creating ensemble of classifiers\n",
    "classifiers = {\n",
    "    'random_forest': RandomForestClassifier(random_state=42),\n",
    "    'extra_trees': ExtraTreesClassifier(random_state=42),\n",
    "    'lgbm': LGBMClassifier(random_state=42),\n",
    "    'xg_boost': XGBClassifier(use_label_encoder=False, eval_metric='logloss', random_state=42),\n",
    "    # 'cat_boost': CatBoostClassifier(random_state=42, verbose=False),\n",
    "}"
   ]
  },
  {
   "cell_type": "code",
   "execution_count": 17,
   "metadata": {},
   "outputs": [],
   "source": [
    "# grid search space\n",
    "\n",
    "# random forest\n",
    "RF_grid = {'n_estimators': [50, 100, 150, 200, 250, 300],\n",
    "        'max_depth': [4, 6, 8, 10, 12]}\n",
    "\n",
    "# boosting algorithms (xg_boost, lgbm, cat_boost)\n",
    "boosted_grid = {'n_estimators': [50, 100, 150, 200],\n",
    "        'max_depth': [4, 8, 12],\n",
    "        'learning_rate': [0.05, 0.1, 0.15]}"
   ]
  },
  {
   "cell_type": "code",
   "execution_count": 18,
   "metadata": {},
   "outputs": [],
   "source": [
    "# mapping models to parameter grid\n",
    "grid = {\n",
    "    \"random_forest\" : RF_grid,\n",
    "    \"extra_trees\" : RF_grid,\n",
    "    \"lgbm\" : boosted_grid,\n",
    "    \"xg_boost\" : boosted_grid,\n",
    "    \"cat_boost\" : boosted_grid,\n",
    "}"
   ]
  },
  {
   "cell_type": "code",
   "execution_count": 19,
   "metadata": {},
   "outputs": [
    {
     "name": "stdout",
     "output_type": "stream",
     "text": [
      "model: random_forest\n",
      "training score: 0.5057277234555317\n",
      "training time (mins): 0.45\n",
      "\n",
      "model: extra_trees\n",
      "training score: 0.4805564996217644\n",
      "training time (mins): 0.23\n",
      "\n",
      "model: lgbm\n",
      "training score: 0.5521069166708223\n",
      "training time (mins): 2.55\n",
      "\n"
     ]
    },
    {
     "ename": "ValueError",
     "evalue": "\nAll the 180 fits failed.\nIt is very likely that your model is misconfigured.\nYou can try to debug the error by setting error_score='raise'.\n\nBelow are more details about the failures:\n--------------------------------------------------------------------------------\n180 fits failed with the following error:\nTraceback (most recent call last):\n  File \"c:\\Users\\kshit\\anaconda3\\envs\\machine_learning\\lib\\site-packages\\sklearn\\model_selection\\_validation.py\", line 686, in _fit_and_score\n    estimator.fit(X_train, y_train, **fit_params)\n  File \"c:\\Users\\kshit\\anaconda3\\envs\\machine_learning\\lib\\site-packages\\xgboost\\core.py\", line 506, in inner_f\n    return f(**kwargs)\n  File \"c:\\Users\\kshit\\anaconda3\\envs\\machine_learning\\lib\\site-packages\\xgboost\\sklearn.py\", line 1199, in fit\n    raise ValueError(label_encoding_check_error)\nValueError: The label must consist of integer labels of form 0, 1, 2, ..., [num_class - 1].\n",
     "output_type": "error",
     "traceback": [
      "\u001b[1;31m---------------------------------------------------------------------------\u001b[0m",
      "\u001b[1;31mValueError\u001b[0m                                Traceback (most recent call last)",
      "Cell \u001b[1;32mIn[19], line 19\u001b[0m\n\u001b[0;32m     16\u001b[0m clf \u001b[39m=\u001b[39m GridSearchCV(estimator\u001b[39m=\u001b[39mclassifier, param_grid\u001b[39m=\u001b[39mgrid[key], n_jobs\u001b[39m=\u001b[39m\u001b[39m-\u001b[39m\u001b[39m1\u001b[39m, cv\u001b[39m=\u001b[39m\u001b[39mNone\u001b[39;00m, scoring\u001b[39m=\u001b[39mcustom_scorer)\n\u001b[0;32m     18\u001b[0m \u001b[39m# training the model\u001b[39;00m\n\u001b[1;32m---> 19\u001b[0m clf\u001b[39m.\u001b[39;49mfit(x_train, np\u001b[39m.\u001b[39;49mravel(y_train))\n\u001b[0;32m     21\u001b[0m \u001b[39m# saving validation score\u001b[39;00m\n\u001b[0;32m     22\u001b[0m valid_scores\u001b[39m.\u001b[39miloc[i,\u001b[39m1\u001b[39m] \u001b[39m=\u001b[39m clf\u001b[39m.\u001b[39mscore(x_val, np\u001b[39m.\u001b[39mravel(y_val))\n",
      "File \u001b[1;32mc:\\Users\\kshit\\anaconda3\\envs\\machine_learning\\lib\\site-packages\\sklearn\\model_selection\\_search.py:875\u001b[0m, in \u001b[0;36mBaseSearchCV.fit\u001b[1;34m(self, X, y, groups, **fit_params)\u001b[0m\n\u001b[0;32m    869\u001b[0m     results \u001b[39m=\u001b[39m \u001b[39mself\u001b[39m\u001b[39m.\u001b[39m_format_results(\n\u001b[0;32m    870\u001b[0m         all_candidate_params, n_splits, all_out, all_more_results\n\u001b[0;32m    871\u001b[0m     )\n\u001b[0;32m    873\u001b[0m     \u001b[39mreturn\u001b[39;00m results\n\u001b[1;32m--> 875\u001b[0m \u001b[39mself\u001b[39;49m\u001b[39m.\u001b[39;49m_run_search(evaluate_candidates)\n\u001b[0;32m    877\u001b[0m \u001b[39m# multimetric is determined here because in the case of a callable\u001b[39;00m\n\u001b[0;32m    878\u001b[0m \u001b[39m# self.scoring the return type is only known after calling\u001b[39;00m\n\u001b[0;32m    879\u001b[0m first_test_score \u001b[39m=\u001b[39m all_out[\u001b[39m0\u001b[39m][\u001b[39m\"\u001b[39m\u001b[39mtest_scores\u001b[39m\u001b[39m\"\u001b[39m]\n",
      "File \u001b[1;32mc:\\Users\\kshit\\anaconda3\\envs\\machine_learning\\lib\\site-packages\\sklearn\\model_selection\\_search.py:1379\u001b[0m, in \u001b[0;36mGridSearchCV._run_search\u001b[1;34m(self, evaluate_candidates)\u001b[0m\n\u001b[0;32m   1377\u001b[0m \u001b[39mdef\u001b[39;00m \u001b[39m_run_search\u001b[39m(\u001b[39mself\u001b[39m, evaluate_candidates):\n\u001b[0;32m   1378\u001b[0m     \u001b[39m\"\"\"Search all candidates in param_grid\"\"\"\u001b[39;00m\n\u001b[1;32m-> 1379\u001b[0m     evaluate_candidates(ParameterGrid(\u001b[39mself\u001b[39;49m\u001b[39m.\u001b[39;49mparam_grid))\n",
      "File \u001b[1;32mc:\\Users\\kshit\\anaconda3\\envs\\machine_learning\\lib\\site-packages\\sklearn\\model_selection\\_search.py:852\u001b[0m, in \u001b[0;36mBaseSearchCV.fit.<locals>.evaluate_candidates\u001b[1;34m(candidate_params, cv, more_results)\u001b[0m\n\u001b[0;32m    845\u001b[0m \u001b[39melif\u001b[39;00m \u001b[39mlen\u001b[39m(out) \u001b[39m!=\u001b[39m n_candidates \u001b[39m*\u001b[39m n_splits:\n\u001b[0;32m    846\u001b[0m     \u001b[39mraise\u001b[39;00m \u001b[39mValueError\u001b[39;00m(\n\u001b[0;32m    847\u001b[0m         \u001b[39m\"\u001b[39m\u001b[39mcv.split and cv.get_n_splits returned \u001b[39m\u001b[39m\"\u001b[39m\n\u001b[0;32m    848\u001b[0m         \u001b[39m\"\u001b[39m\u001b[39minconsistent results. Expected \u001b[39m\u001b[39m{}\u001b[39;00m\u001b[39m \u001b[39m\u001b[39m\"\u001b[39m\n\u001b[0;32m    849\u001b[0m         \u001b[39m\"\u001b[39m\u001b[39msplits, got \u001b[39m\u001b[39m{}\u001b[39;00m\u001b[39m\"\u001b[39m\u001b[39m.\u001b[39mformat(n_splits, \u001b[39mlen\u001b[39m(out) \u001b[39m/\u001b[39m\u001b[39m/\u001b[39m n_candidates)\n\u001b[0;32m    850\u001b[0m     )\n\u001b[1;32m--> 852\u001b[0m _warn_or_raise_about_fit_failures(out, \u001b[39mself\u001b[39;49m\u001b[39m.\u001b[39;49merror_score)\n\u001b[0;32m    854\u001b[0m \u001b[39m# For callable self.scoring, the return type is only know after\u001b[39;00m\n\u001b[0;32m    855\u001b[0m \u001b[39m# calling. If the return type is a dictionary, the error scores\u001b[39;00m\n\u001b[0;32m    856\u001b[0m \u001b[39m# can now be inserted with the correct key. The type checking\u001b[39;00m\n\u001b[0;32m    857\u001b[0m \u001b[39m# of out will be done in `_insert_error_scores`.\u001b[39;00m\n\u001b[0;32m    858\u001b[0m \u001b[39mif\u001b[39;00m callable(\u001b[39mself\u001b[39m\u001b[39m.\u001b[39mscoring):\n",
      "File \u001b[1;32mc:\\Users\\kshit\\anaconda3\\envs\\machine_learning\\lib\\site-packages\\sklearn\\model_selection\\_validation.py:367\u001b[0m, in \u001b[0;36m_warn_or_raise_about_fit_failures\u001b[1;34m(results, error_score)\u001b[0m\n\u001b[0;32m    360\u001b[0m \u001b[39mif\u001b[39;00m num_failed_fits \u001b[39m==\u001b[39m num_fits:\n\u001b[0;32m    361\u001b[0m     all_fits_failed_message \u001b[39m=\u001b[39m (\n\u001b[0;32m    362\u001b[0m         \u001b[39mf\u001b[39m\u001b[39m\"\u001b[39m\u001b[39m\\n\u001b[39;00m\u001b[39mAll the \u001b[39m\u001b[39m{\u001b[39;00mnum_fits\u001b[39m}\u001b[39;00m\u001b[39m fits failed.\u001b[39m\u001b[39m\\n\u001b[39;00m\u001b[39m\"\u001b[39m\n\u001b[0;32m    363\u001b[0m         \u001b[39m\"\u001b[39m\u001b[39mIt is very likely that your model is misconfigured.\u001b[39m\u001b[39m\\n\u001b[39;00m\u001b[39m\"\u001b[39m\n\u001b[0;32m    364\u001b[0m         \u001b[39m\"\u001b[39m\u001b[39mYou can try to debug the error by setting error_score=\u001b[39m\u001b[39m'\u001b[39m\u001b[39mraise\u001b[39m\u001b[39m'\u001b[39m\u001b[39m.\u001b[39m\u001b[39m\\n\u001b[39;00m\u001b[39m\\n\u001b[39;00m\u001b[39m\"\u001b[39m\n\u001b[0;32m    365\u001b[0m         \u001b[39mf\u001b[39m\u001b[39m\"\u001b[39m\u001b[39mBelow are more details about the failures:\u001b[39m\u001b[39m\\n\u001b[39;00m\u001b[39m{\u001b[39;00mfit_errors_summary\u001b[39m}\u001b[39;00m\u001b[39m\"\u001b[39m\n\u001b[0;32m    366\u001b[0m     )\n\u001b[1;32m--> 367\u001b[0m     \u001b[39mraise\u001b[39;00m \u001b[39mValueError\u001b[39;00m(all_fits_failed_message)\n\u001b[0;32m    369\u001b[0m \u001b[39melse\u001b[39;00m:\n\u001b[0;32m    370\u001b[0m     some_fits_failed_message \u001b[39m=\u001b[39m (\n\u001b[0;32m    371\u001b[0m         \u001b[39mf\u001b[39m\u001b[39m\"\u001b[39m\u001b[39m\\n\u001b[39;00m\u001b[39m{\u001b[39;00mnum_failed_fits\u001b[39m}\u001b[39;00m\u001b[39m fits failed out of a total of \u001b[39m\u001b[39m{\u001b[39;00mnum_fits\u001b[39m}\u001b[39;00m\u001b[39m.\u001b[39m\u001b[39m\\n\u001b[39;00m\u001b[39m\"\u001b[39m\n\u001b[0;32m    372\u001b[0m         \u001b[39m\"\u001b[39m\u001b[39mThe score on these train-test partitions for these parameters\u001b[39m\u001b[39m\"\u001b[39m\n\u001b[1;32m   (...)\u001b[0m\n\u001b[0;32m    376\u001b[0m         \u001b[39mf\u001b[39m\u001b[39m\"\u001b[39m\u001b[39mBelow are more details about the failures:\u001b[39m\u001b[39m\\n\u001b[39;00m\u001b[39m{\u001b[39;00mfit_errors_summary\u001b[39m}\u001b[39;00m\u001b[39m\"\u001b[39m\n\u001b[0;32m    377\u001b[0m     )\n",
      "\u001b[1;31mValueError\u001b[0m: \nAll the 180 fits failed.\nIt is very likely that your model is misconfigured.\nYou can try to debug the error by setting error_score='raise'.\n\nBelow are more details about the failures:\n--------------------------------------------------------------------------------\n180 fits failed with the following error:\nTraceback (most recent call last):\n  File \"c:\\Users\\kshit\\anaconda3\\envs\\machine_learning\\lib\\site-packages\\sklearn\\model_selection\\_validation.py\", line 686, in _fit_and_score\n    estimator.fit(X_train, y_train, **fit_params)\n  File \"c:\\Users\\kshit\\anaconda3\\envs\\machine_learning\\lib\\site-packages\\xgboost\\core.py\", line 506, in inner_f\n    return f(**kwargs)\n  File \"c:\\Users\\kshit\\anaconda3\\envs\\machine_learning\\lib\\site-packages\\xgboost\\sklearn.py\", line 1199, in fit\n    raise ValueError(label_encoding_check_error)\nValueError: The label must consist of integer labels of form 0, 1, 2, ..., [num_class - 1].\n"
     ]
    }
   ],
   "source": [
    "# index of current model\n",
    "i: int =0\n",
    "\n",
    "# holds best params for classifier\n",
    "clf_best_params = classifiers.copy()\n",
    "\n",
    "# holds validation score and training time of each model\n",
    "valid_scores=pd.DataFrame({'Classifer':classifiers.keys(), 'Validation accuracy': np.zeros(len(classifiers)), 'Training time': np.zeros(len(classifiers))})\n",
    "\n",
    "\n",
    "for key, classifier in classifiers.items():\n",
    "    # starting timer\n",
    "    start = time.time()\n",
    "\n",
    "    # grid search classifier\n",
    "    clf = GridSearchCV(estimator=classifier, param_grid=grid[key], n_jobs=-1, cv=None, scoring=custom_scorer)\n",
    "\n",
    "    # training the model\n",
    "    clf.fit(x_train, np.ravel(y_train))\n",
    "\n",
    "    # saving validation score\n",
    "    valid_scores.iloc[i,1] = clf.score(x_val, np.ravel(y_val))\n",
    "\n",
    "    # saving best parameters\n",
    "    clf_best_params[key] = clf.best_params_\n",
    "    \n",
    "    # stopping timer\n",
    "    stop = time.time()\n",
    "\n",
    "    # saving time taken\n",
    "    valid_scores.iloc[i,2] = np.round((stop - start) / 60, 2)\n",
    "    \n",
    "    # logging data\n",
    "    print('model:', key)\n",
    "    print('training score:', valid_scores.iloc[i,1])\n",
    "    print('training time (mins):', valid_scores.iloc[i,2])\n",
    "    print('')\n",
    "    i+=1"
   ]
  },
  {
   "cell_type": "code",
   "execution_count": 20,
   "metadata": {},
   "outputs": [
    {
     "data": {
      "text/plain": [
       "{'random_forest': {'max_depth': 12, 'n_estimators': 200},\n",
       " 'extra_trees': {'max_depth': 12, 'n_estimators': 100},\n",
       " 'lgbm': {'learning_rate': 0.1, 'max_depth': 4, 'n_estimators': 50},\n",
       " 'xg_boost': XGBClassifier(base_score=None, booster=None, colsample_bylevel=None,\n",
       "               colsample_bynode=None, colsample_bytree=None,\n",
       "               enable_categorical=False, eval_metric='logloss', gamma=None,\n",
       "               gpu_id=None, importance_type=None, interaction_constraints=None,\n",
       "               learning_rate=None, max_delta_step=None, max_depth=None,\n",
       "               min_child_weight=None, missing=nan, monotone_constraints=None,\n",
       "               n_estimators=100, n_jobs=None, num_parallel_tree=None,\n",
       "               predictor=None, random_state=42, reg_alpha=None, reg_lambda=None,\n",
       "               scale_pos_weight=None, subsample=None, tree_method=None,\n",
       "               use_label_encoder=False, validate_parameters=None,\n",
       "               verbosity=None)}"
      ]
     },
     "execution_count": 20,
     "metadata": {},
     "output_type": "execute_result"
    }
   ],
   "source": [
    "# best parameters for each classifier\n",
    "clf_best_params"
   ]
  },
  {
   "cell_type": "code",
   "execution_count": 21,
   "metadata": {},
   "outputs": [
    {
     "data": {
      "text/html": [
       "<div>\n",
       "<style scoped>\n",
       "    .dataframe tbody tr th:only-of-type {\n",
       "        vertical-align: middle;\n",
       "    }\n",
       "\n",
       "    .dataframe tbody tr th {\n",
       "        vertical-align: top;\n",
       "    }\n",
       "\n",
       "    .dataframe thead th {\n",
       "        text-align: right;\n",
       "    }\n",
       "</style>\n",
       "<table border=\"1\" class=\"dataframe\">\n",
       "  <thead>\n",
       "    <tr style=\"text-align: right;\">\n",
       "      <th></th>\n",
       "      <th>Classifer</th>\n",
       "      <th>Validation accuracy</th>\n",
       "      <th>Training time</th>\n",
       "    </tr>\n",
       "  </thead>\n",
       "  <tbody>\n",
       "    <tr>\n",
       "      <th>0</th>\n",
       "      <td>random_forest</td>\n",
       "      <td>0.505728</td>\n",
       "      <td>0.45</td>\n",
       "    </tr>\n",
       "    <tr>\n",
       "      <th>1</th>\n",
       "      <td>extra_trees</td>\n",
       "      <td>0.480556</td>\n",
       "      <td>0.23</td>\n",
       "    </tr>\n",
       "    <tr>\n",
       "      <th>2</th>\n",
       "      <td>lgbm</td>\n",
       "      <td>0.552107</td>\n",
       "      <td>2.55</td>\n",
       "    </tr>\n",
       "    <tr>\n",
       "      <th>3</th>\n",
       "      <td>xg_boost</td>\n",
       "      <td>0.000000</td>\n",
       "      <td>0.00</td>\n",
       "    </tr>\n",
       "  </tbody>\n",
       "</table>\n",
       "</div>"
      ],
      "text/plain": [
       "       Classifer  Validation accuracy  Training time\n",
       "0  random_forest             0.505728           0.45\n",
       "1    extra_trees             0.480556           0.23\n",
       "2           lgbm             0.552107           2.55\n",
       "3       xg_boost             0.000000           0.00"
      ]
     },
     "execution_count": 21,
     "metadata": {},
     "output_type": "execute_result"
    }
   ],
   "source": [
    "# validation scores\n",
    "valid_scores"
   ]
  },
  {
   "attachments": {},
   "cell_type": "markdown",
   "metadata": {},
   "source": [
    "<br>\n",
    "<br>\n",
    "<br>"
   ]
  },
  {
   "attachments": {},
   "cell_type": "markdown",
   "metadata": {},
   "source": [
    "### Modelling"
   ]
  },
  {
   "attachments": {},
   "cell_type": "markdown",
   "metadata": {},
   "source": [
    "#### stacking 2 models"
   ]
  },
  {
   "cell_type": "code",
   "execution_count": 36,
   "metadata": {},
   "outputs": [],
   "source": [
    "# selecting top 2 best performing classifiers\n",
    "best_classifiers = {\n",
    "    \"random_forest\" : RandomForestClassifier(max_depth=12, n_estimators=200, random_state=42, n_jobs=-1),\n",
    "    \"lgbm\" : LGBMClassifier(learning_rate=0.1, max_depth=4, n_estimators=50, random_state=42, n_jobs=-1),\n",
    "}"
   ]
  },
  {
   "cell_type": "code",
   "execution_count": 40,
   "metadata": {},
   "outputs": [
    {
     "name": "stdout",
     "output_type": "stream",
     "text": [
      "Model: random_forest\n",
      "Average validation accuracy: 0.4868\n",
      "Training time (mins): 0.24\n",
      "\n",
      "Model: lgbm\n",
      "Average validation accuracy: 0.4878\n",
      "Training time (mins): 0.03\n",
      "\n"
     ]
    }
   ],
   "source": [
    "# number of folds in cross validation\n",
    "folds: int = 10\n",
    "# will hold prediction probabilities\n",
    "preds = np.zeros((len(test_data), 6))\n",
    "\n",
    "for key, classifier in best_classifiers.items():\n",
    "    # starting timer\n",
    "    start = time.time()\n",
    "    \n",
    "    # 10-fold cross validation\n",
    "    cv = StratifiedKFold(n_splits=folds, shuffle=True, random_state=42)\n",
    "    \n",
    "    score = 0\n",
    "\n",
    "    for fold, (train_idx, val_idx) in enumerate(cv.split(X, y)):\n",
    "        # getting training and validation sets\n",
    "        X_train, X_valid = X.iloc[train_idx], X.iloc[val_idx]\n",
    "        y_train, y_valid = y.iloc[train_idx], y.iloc[val_idx]\n",
    "\n",
    "        # training model\n",
    "        clf = classifier\n",
    "        clf.fit(X_train, np.ravel(y_train))\n",
    "\n",
    "        # making predictions and measuring accuracy\n",
    "        preds += clf.predict_proba(test_data)\n",
    "\n",
    "        val_preds = clf.predict(X_valid)\n",
    "        score += quad_kappa(np.ravel(y_valid), val_preds)\n",
    "\n",
    "    # averaging accuracy    \n",
    "    score = score / folds\n",
    "    \n",
    "    # stopping timer\n",
    "    stop = time.time()\n",
    "\n",
    "    # print accuracy and time\n",
    "    print('Model:', key)\n",
    "    print('Average validation accuracy:', np.round(score,4))\n",
    "    print('Training time (mins):', np.round((stop - start)/60,2))\n",
    "    print('')\n",
    "    \n",
    "# ensemble predictions\n",
    "preds = preds / (folds * len(best_classifiers))"
   ]
  },
  {
   "cell_type": "code",
   "execution_count": 46,
   "metadata": {},
   "outputs": [],
   "source": [
    "# will hold final predictions\n",
    "final_predictions = []"
   ]
  },
  {
   "cell_type": "code",
   "execution_count": 47,
   "metadata": {},
   "outputs": [],
   "source": [
    "# appending final predictions\n",
    "for row in preds:\n",
    "    max_value = max(row)\n",
    "    index = list(row).index(max_value)\n",
    "    final_predictions.append(index+3)"
   ]
  },
  {
   "cell_type": "code",
   "execution_count": 49,
   "metadata": {},
   "outputs": [
    {
     "data": {
      "text/plain": [
       "0    6\n",
       "1    6\n",
       "2    6\n",
       "3    6\n",
       "4    5\n",
       "dtype: int64"
      ]
     },
     "execution_count": 49,
     "metadata": {},
     "output_type": "execute_result"
    }
   ],
   "source": [
    "# converting to series datatype\n",
    "pred_series = pd.Series(final_predictions)\n",
    "pred_series.head()"
   ]
  },
  {
   "cell_type": "code",
   "execution_count": 50,
   "metadata": {},
   "outputs": [
    {
     "data": {
      "image/png": "[encoded data removed]",
      "text/plain": [
       "<Figure size 640x480 with 1 Axes>"
      ]
     },
     "metadata": {},
     "output_type": "display_data"
    }
   ],
   "source": [
    "# inspection value distribution\n",
    "sns.barplot(x=pred_series.value_counts().index, y=pred_series.value_counts().values)\n",
    "plt.show()"
   ]
  }
 ],
 "metadata": {
  "kernelspec": {
   "display_name": "machine_learning",
   "language": "python",
   "name": "python3"
  },
  "language_info": {
   "codemirror_mode": {
    "name": "ipython",
    "version": 3
   },
   "file_extension": ".py",
   "mimetype": "text/x-python",
   "name": "python",
   "nbconvert_exporter": "python",
   "pygments_lexer": "ipython3",
   "version": "3.10.8 | packaged by conda-forge | (main, Nov 24 2022, 14:07:00) [MSC v.1916 64 bit (AMD64)]"
  },
  "orig_nbformat": 4,
  "vscode": {
   "interpreter": {
    "hash": "7e9e12bc012fae32ac9654bb37cb31a0d4c91164effa766e52fa90ec4ccf2e77"
   }
  }
 },
 "nbformat": 4,
 "nbformat_minor": 2
}
